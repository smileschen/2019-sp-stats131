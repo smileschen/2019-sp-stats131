{
 "cells": [
  {
   "cell_type": "markdown",
   "metadata": {},
   "source": [
    "# Jupyter"
   ]
  },
  {
   "cell_type": "markdown",
   "metadata": {},
   "source": [
    "## Jupyter has two modes: \n",
    "\n",
    "### command mode (the left of the cell is blue)\n",
    "\n",
    "- Type esc to enter command mode\n",
    "\n",
    "### edit mode (the left of the cell is green)\n",
    "\n",
    "- Type Enter to enter edit mode\n",
    "\n",
    "### Don't mix up command mode and edit mode."
   ]
  },
  {
   "cell_type": "markdown",
   "metadata": {},
   "source": [
    "## Adding Cells (command mode)\n",
    "\n",
    "- Type **b** to add a new cell below your current cell.\n",
    "- Type **a** to add a new cell above your current cell.\n",
    "\n",
    "## Deleting Cells (command mode)\n",
    "\n",
    "- Type **dd** to delete a cell. That is type the letter d twice.\n",
    "\n",
    "## Cut, Copy, Paste (command mode)\n",
    "\n",
    "While you have a cell selected in command mode, you can use\n",
    "- **x** to cut\n",
    "- **c** to copy\n",
    "- **v** to paste (it will paste the cell below the selected cell)\n",
    "\n",
    "Don't hold ctrl, just type the letter."
   ]
  },
  {
   "cell_type": "markdown",
   "metadata": {},
   "source": [
    "## Navigating (command mode)\n",
    "\n",
    "- You can use the up or down arrows to switch cells.\n",
    "- If you don't want to leave your home row, you can also use **j or k** to move up and down."
   ]
  },
  {
   "cell_type": "markdown",
   "metadata": {},
   "source": [
    "# Jupyter has three types of cells:\n",
    "- Markdown Cells\n",
    "    - used for text\n",
    "- Code Cells\n",
    "    - used to run code\n",
    "- raw cells (used infrequently)\n",
    "\n",
    "While in command mode, you can convert a cell to markdown by typing **m** \n",
    "\n",
    "You can convert a cell to code by typing **y**"
   ]
  },
  {
   "cell_type": "markdown",
   "metadata": {},
   "source": [
    "# heading level 1\n",
    "## heading level 2\n",
    "### heading level 3\n",
    "#### heading level 4\n",
    "##### heading level 5\n",
    "###### heading level 6\n",
    "####### becomes normal text"
   ]
  },
  {
   "cell_type": "markdown",
   "metadata": {},
   "source": [
    "# Markdown basics\n",
    "\n",
    "\n",
    "~~~\n",
    "Use # symbols to indicate headings. \n",
    "# This is a top level heading.\n",
    "## This will be a secondary level heading and so on.\n",
    "###### You can use up to 6 #s for it count as a heading. This is a 6th level heading.\n",
    "\n",
    "Make bulleted lists by using hyphens\n",
    "\n",
    "- item 1\n",
    "- item 2\n",
    "\n",
    "Include math by using dollar signs. One dollar sign for in-line math symbols. Two dollar signs for stand-alone math equations.\n",
    "\n",
    "For example, you can talk about $\\pi$ using in-line math.\n",
    "\n",
    "You write an equation like\n",
    "\n",
    "$$A = \\pi r^2$$\n",
    "\n",
    "If you want to include code, you can indicate to markdown not to render by using he back accent ` and the beginning and \n",
    "end of one line, or use three tildes ~ to indicate a code chunk.\n",
    "\n",
    "Use asterisks * for emphasis. \n",
    "Put on asterisk around a word or phrase to *italicize* it. \n",
    "Use two asterisks to make it **bold**.\n",
    "~~~\n"
   ]
  },
  {
   "cell_type": "markdown",
   "metadata": {},
   "source": [
    "Equation:\n",
    "\n",
    "$$E = mc^2$$"
   ]
  },
  {
   "cell_type": "markdown",
   "metadata": {},
   "source": [
    "# Running or Rendering Cells\n",
    "\n",
    "You can run a code cell or render a markdown cell by pressing **Ctrl+Enter**\n",
    "This will run the currently selected cell only.\n",
    "\n",
    "I probably use **Shift+Enter** most of the time. This will run the selected cell and then move to the next cell. If you are at the last cell, it will insert another cell below it."
   ]
  },
  {
   "cell_type": "markdown",
   "metadata": {},
   "source": [
    "## List of Keyboard shortcuts\n",
    "\n",
    "You can get a list of shortcuts while in command mode by typing **h**"
   ]
  },
  {
   "cell_type": "markdown",
   "metadata": {},
   "source": [
    "# IPython\n",
    "\n",
    "Jupyter runs on IPython.\n",
    "\n",
    "As you write code in a code cell, you can use some of the nice features of IPython"
   ]
  },
  {
   "cell_type": "code",
   "execution_count": 1,
   "metadata": {},
   "outputs": [
    {
     "data": {
      "text/plain": [
       "5"
      ]
     },
     "execution_count": 1,
     "metadata": {},
     "output_type": "execute_result"
    }
   ],
   "source": [
    "# basic operations\n",
    "2 + 3"
   ]
  },
  {
   "cell_type": "code",
   "execution_count": 2,
   "metadata": {},
   "outputs": [
    {
     "data": {
      "text/plain": [
       "25"
      ]
     },
     "execution_count": 2,
     "metadata": {},
     "output_type": "execute_result"
    }
   ],
   "source": [
    "# if you have multiple operations in a cell, only the last operation will be printed\n",
    "4 + 5\n",
    "5 * 5"
   ]
  },
  {
   "cell_type": "code",
   "execution_count": 3,
   "metadata": {},
   "outputs": [
    {
     "name": "stdout",
     "output_type": "stream",
     "text": [
      "9\n",
      "25\n"
     ]
    }
   ],
   "source": [
    "# if you want to the other stuff to appear, you need to use print() commands\n",
    "print(4 + 5)\n",
    "print(5 * 5)\n",
    "\n",
    "# note that when you do this, there is no Out[ ] for the cell."
   ]
  },
  {
   "cell_type": "code",
   "execution_count": 4,
   "metadata": {},
   "outputs": [
    {
     "data": {
      "text/plain": [
       "'# basic operations\\n2 + 3'"
      ]
     },
     "execution_count": 4,
     "metadata": {},
     "output_type": "execute_result"
    }
   ],
   "source": [
    "# IPython cells have an In[1] and an Out[1].\n",
    "# These show the sequence you write code, but also allows you to access past entries and values\n",
    "In[1]"
   ]
  },
  {
   "cell_type": "code",
   "execution_count": 5,
   "metadata": {},
   "outputs": [
    {
     "data": {
      "text/plain": [
       "25"
      ]
     },
     "execution_count": 5,
     "metadata": {},
     "output_type": "execute_result"
    }
   ],
   "source": [
    "Out[2]"
   ]
  },
  {
   "cell_type": "code",
   "execution_count": 6,
   "metadata": {},
   "outputs": [
    {
     "data": {
      "text/plain": [
       "{1: 5, 2: 25, 4: '# basic operations\\n2 + 3', 5: 25}"
      ]
     },
     "execution_count": 6,
     "metadata": {},
     "output_type": "execute_result"
    }
   ],
   "source": [
    "# Out is a dictionary\n",
    "Out"
   ]
  },
  {
   "cell_type": "code",
   "execution_count": 7,
   "metadata": {},
   "outputs": [
    {
     "data": {
      "text/plain": [
       "['',\n",
       " '# basic operations\\n2 + 3',\n",
       " '# if you have multiple operations in a cell, only the last operation will be printed\\n4 + 5\\n5 * 5',\n",
       " '# if you want to the other stuff to appear, you need to use print() commands\\nprint(4 + 5)\\nprint(5 * 5)\\n\\n# note that when you do this, there is no Out[ ] for the cell.',\n",
       " '# IPython cells have an In[1] and an Out[1].\\n# These show the sequence you write code, but also allows you to access past entries and values\\nIn[1]',\n",
       " 'Out[2]',\n",
       " '# Out is a dictionary\\nOut',\n",
       " '# In is a list\\nIn']"
      ]
     },
     "execution_count": 7,
     "metadata": {},
     "output_type": "execute_result"
    }
   ],
   "source": [
    "# In is a list\n",
    "In"
   ]
  },
  {
   "cell_type": "code",
   "execution_count": 8,
   "metadata": {},
   "outputs": [
    {
     "data": {
      "text/plain": [
       "'hello! hello! hello! '"
      ]
     },
     "execution_count": 8,
     "metadata": {},
     "output_type": "execute_result"
    }
   ],
   "source": [
    "3 * 'hello! '"
   ]
  },
  {
   "cell_type": "markdown",
   "metadata": {},
   "source": [
    "You can use the `%run` to execute python scripts stored in separate files.\n",
    "For example, I have a simple script that simply prints hello world stored in a script"
   ]
  },
  {
   "cell_type": "code",
   "execution_count": 9,
   "metadata": {},
   "outputs": [
    {
     "name": "stdout",
     "output_type": "stream",
     "text": [
      "hello world\n"
     ]
    }
   ],
   "source": [
    "%run script01.py"
   ]
  },
  {
   "cell_type": "markdown",
   "metadata": {},
   "source": [
    "If you want the script to have access to variables that you have defined in the notebook, use `%run -i`"
   ]
  },
  {
   "cell_type": "code",
   "execution_count": 10,
   "metadata": {},
   "outputs": [],
   "source": [
    "name = 'Miles'"
   ]
  },
  {
   "cell_type": "code",
   "execution_count": 11,
   "metadata": {},
   "outputs": [
    {
     "ename": "NameError",
     "evalue": "name 'name' is not defined",
     "output_type": "error",
     "traceback": [
      "\u001b[1;31m---------------------------------------------------------------------------\u001b[0m",
      "\u001b[1;31mNameError\u001b[0m                                 Traceback (most recent call last)",
      "\u001b[1;32m~\\OneDrive\\Teaching\\131\\2019-sp-stats131\\script02.py\u001b[0m in \u001b[0;36m<module>\u001b[1;34m\u001b[0m\n\u001b[1;32m----> 1\u001b[1;33m \u001b[0mprint\u001b[0m\u001b[1;33m(\u001b[0m\u001b[1;34m'hello '\u001b[0m \u001b[1;33m+\u001b[0m \u001b[0mname\u001b[0m\u001b[1;33m)\u001b[0m\u001b[1;33m\u001b[0m\u001b[1;33m\u001b[0m\u001b[0m\n\u001b[0m\u001b[0;32m      2\u001b[0m \u001b[0mprint\u001b[0m\u001b[1;33m(\u001b[0m\u001b[1;34m\"It's Friday!\"\u001b[0m\u001b[1;33m)\u001b[0m\u001b[1;33m\u001b[0m\u001b[1;33m\u001b[0m\u001b[0m\n",
      "\u001b[1;31mNameError\u001b[0m: name 'name' is not defined"
     ]
    }
   ],
   "source": [
    "%run script02.py"
   ]
  },
  {
   "cell_type": "code",
   "execution_count": 12,
   "metadata": {},
   "outputs": [
    {
     "name": "stdout",
     "output_type": "stream",
     "text": [
      "hello Miles\n",
      "It's Friday!\n"
     ]
    }
   ],
   "source": [
    "%run -i script02.py"
   ]
  },
  {
   "cell_type": "markdown",
   "metadata": {},
   "source": [
    "You can use bash commands like `cat` which displays the contents of a file by preceeding the command with an exclamation point.\n",
    "The commands you can use will be different for windows or unix based (mac) machines. For example, there is no `cat` command in windows, and you must use `type`"
   ]
  },
  {
   "cell_type": "code",
   "execution_count": 13,
   "metadata": {},
   "outputs": [
    {
     "name": "stderr",
     "output_type": "stream",
     "text": [
      "'cat' is not recognized as an internal or external command,\n",
      "operable program or batch file.\n"
     ]
    }
   ],
   "source": [
    "!cat script02.py"
   ]
  },
  {
   "cell_type": "code",
   "execution_count": 14,
   "metadata": {},
   "outputs": [
    {
     "name": "stdout",
     "output_type": "stream",
     "text": [
      "print('hello ' + name)\n",
      "print(\"It's Friday!\")\n"
     ]
    }
   ],
   "source": [
    "!type script02.py"
   ]
  },
  {
   "cell_type": "markdown",
   "metadata": {},
   "source": [
    "You can access the last value output using a single underscore character _"
   ]
  },
  {
   "cell_type": "code",
   "execution_count": 15,
   "metadata": {},
   "outputs": [
    {
     "data": {
      "text/plain": [
       "27"
      ]
     },
     "execution_count": 15,
     "metadata": {},
     "output_type": "execute_result"
    }
   ],
   "source": [
    "3 * 9"
   ]
  },
  {
   "cell_type": "code",
   "execution_count": 16,
   "metadata": {},
   "outputs": [
    {
     "data": {
      "text/plain": [
       "25"
      ]
     },
     "execution_count": 16,
     "metadata": {},
     "output_type": "execute_result"
    }
   ],
   "source": [
    "_ - 2"
   ]
  },
  {
   "cell_type": "code",
   "execution_count": 17,
   "metadata": {},
   "outputs": [
    {
     "data": {
      "text/plain": [
       "25"
      ]
     },
     "execution_count": 17,
     "metadata": {},
     "output_type": "execute_result"
    }
   ],
   "source": [
    "_"
   ]
  }
 ],
 "metadata": {
  "kernelspec": {
   "display_name": "Python 3",
   "language": "python",
   "name": "python3"
  },
  "language_info": {
   "codemirror_mode": {
    "name": "ipython",
    "version": 3
   },
   "file_extension": ".py",
   "mimetype": "text/x-python",
   "name": "python",
   "nbconvert_exporter": "python",
   "pygments_lexer": "ipython3",
   "version": "3.6.8"
  }
 },
 "nbformat": 4,
 "nbformat_minor": 2
}
